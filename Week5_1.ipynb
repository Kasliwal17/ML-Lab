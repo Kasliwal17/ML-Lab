{
 "cells": [
  {
   "cell_type": "code",
   "execution_count": 2,
   "id": "d633c9d5",
   "metadata": {},
   "outputs": [],
   "source": [
    "import pandas as pd\n",
    "import numpy as np\n",
    "import matplotlib.pyplot as plt\n",
    "import math\n",
    "import sklearn.model_selection as mod\n",
    "import sklearn.metrics as metrics\n",
    "\n",
    "%matplotlib inline"
   ]
  },
  {
   "cell_type": "code",
   "execution_count": 3,
   "id": "228f70d7",
   "metadata": {},
   "outputs": [],
   "source": [
    "df = pd.read_csv('CarPrice_Assignment.csv')"
   ]
  },
  {
   "cell_type": "code",
   "execution_count": 4,
   "id": "b7b4489f",
   "metadata": {},
   "outputs": [
    {
     "data": {
      "text/html": [
       "<div>\n",
       "<style scoped>\n",
       "    .dataframe tbody tr th:only-of-type {\n",
       "        vertical-align: middle;\n",
       "    }\n",
       "\n",
       "    .dataframe tbody tr th {\n",
       "        vertical-align: top;\n",
       "    }\n",
       "\n",
       "    .dataframe thead th {\n",
       "        text-align: right;\n",
       "    }\n",
       "</style>\n",
       "<table border=\"1\" class=\"dataframe\">\n",
       "  <thead>\n",
       "    <tr style=\"text-align: right;\">\n",
       "      <th></th>\n",
       "      <th>car_ID</th>\n",
       "      <th>symboling</th>\n",
       "      <th>wheelbase</th>\n",
       "      <th>carlength</th>\n",
       "      <th>carwidth</th>\n",
       "      <th>carheight</th>\n",
       "      <th>curbweight</th>\n",
       "      <th>enginesize</th>\n",
       "      <th>boreratio</th>\n",
       "      <th>stroke</th>\n",
       "      <th>compressionratio</th>\n",
       "      <th>horsepower</th>\n",
       "      <th>peakrpm</th>\n",
       "      <th>citympg</th>\n",
       "      <th>highwaympg</th>\n",
       "      <th>price</th>\n",
       "    </tr>\n",
       "  </thead>\n",
       "  <tbody>\n",
       "    <tr>\n",
       "      <th>count</th>\n",
       "      <td>205.000000</td>\n",
       "      <td>205.000000</td>\n",
       "      <td>205.000000</td>\n",
       "      <td>205.000000</td>\n",
       "      <td>205.000000</td>\n",
       "      <td>205.000000</td>\n",
       "      <td>205.000000</td>\n",
       "      <td>205.000000</td>\n",
       "      <td>205.000000</td>\n",
       "      <td>205.000000</td>\n",
       "      <td>205.000000</td>\n",
       "      <td>205.000000</td>\n",
       "      <td>205.000000</td>\n",
       "      <td>205.000000</td>\n",
       "      <td>205.000000</td>\n",
       "      <td>205.000000</td>\n",
       "    </tr>\n",
       "    <tr>\n",
       "      <th>mean</th>\n",
       "      <td>103.000000</td>\n",
       "      <td>0.834146</td>\n",
       "      <td>98.756585</td>\n",
       "      <td>174.049268</td>\n",
       "      <td>65.907805</td>\n",
       "      <td>53.724878</td>\n",
       "      <td>2555.565854</td>\n",
       "      <td>126.907317</td>\n",
       "      <td>3.329756</td>\n",
       "      <td>3.255415</td>\n",
       "      <td>10.142537</td>\n",
       "      <td>104.117073</td>\n",
       "      <td>5125.121951</td>\n",
       "      <td>25.219512</td>\n",
       "      <td>30.751220</td>\n",
       "      <td>13276.710571</td>\n",
       "    </tr>\n",
       "    <tr>\n",
       "      <th>std</th>\n",
       "      <td>59.322565</td>\n",
       "      <td>1.245307</td>\n",
       "      <td>6.021776</td>\n",
       "      <td>12.337289</td>\n",
       "      <td>2.145204</td>\n",
       "      <td>2.443522</td>\n",
       "      <td>520.680204</td>\n",
       "      <td>41.642693</td>\n",
       "      <td>0.270844</td>\n",
       "      <td>0.313597</td>\n",
       "      <td>3.972040</td>\n",
       "      <td>39.544167</td>\n",
       "      <td>476.985643</td>\n",
       "      <td>6.542142</td>\n",
       "      <td>6.886443</td>\n",
       "      <td>7988.852332</td>\n",
       "    </tr>\n",
       "    <tr>\n",
       "      <th>min</th>\n",
       "      <td>1.000000</td>\n",
       "      <td>-2.000000</td>\n",
       "      <td>86.600000</td>\n",
       "      <td>141.100000</td>\n",
       "      <td>60.300000</td>\n",
       "      <td>47.800000</td>\n",
       "      <td>1488.000000</td>\n",
       "      <td>61.000000</td>\n",
       "      <td>2.540000</td>\n",
       "      <td>2.070000</td>\n",
       "      <td>7.000000</td>\n",
       "      <td>48.000000</td>\n",
       "      <td>4150.000000</td>\n",
       "      <td>13.000000</td>\n",
       "      <td>16.000000</td>\n",
       "      <td>5118.000000</td>\n",
       "    </tr>\n",
       "    <tr>\n",
       "      <th>25%</th>\n",
       "      <td>52.000000</td>\n",
       "      <td>0.000000</td>\n",
       "      <td>94.500000</td>\n",
       "      <td>166.300000</td>\n",
       "      <td>64.100000</td>\n",
       "      <td>52.000000</td>\n",
       "      <td>2145.000000</td>\n",
       "      <td>97.000000</td>\n",
       "      <td>3.150000</td>\n",
       "      <td>3.110000</td>\n",
       "      <td>8.600000</td>\n",
       "      <td>70.000000</td>\n",
       "      <td>4800.000000</td>\n",
       "      <td>19.000000</td>\n",
       "      <td>25.000000</td>\n",
       "      <td>7788.000000</td>\n",
       "    </tr>\n",
       "    <tr>\n",
       "      <th>50%</th>\n",
       "      <td>103.000000</td>\n",
       "      <td>1.000000</td>\n",
       "      <td>97.000000</td>\n",
       "      <td>173.200000</td>\n",
       "      <td>65.500000</td>\n",
       "      <td>54.100000</td>\n",
       "      <td>2414.000000</td>\n",
       "      <td>120.000000</td>\n",
       "      <td>3.310000</td>\n",
       "      <td>3.290000</td>\n",
       "      <td>9.000000</td>\n",
       "      <td>95.000000</td>\n",
       "      <td>5200.000000</td>\n",
       "      <td>24.000000</td>\n",
       "      <td>30.000000</td>\n",
       "      <td>10295.000000</td>\n",
       "    </tr>\n",
       "    <tr>\n",
       "      <th>75%</th>\n",
       "      <td>154.000000</td>\n",
       "      <td>2.000000</td>\n",
       "      <td>102.400000</td>\n",
       "      <td>183.100000</td>\n",
       "      <td>66.900000</td>\n",
       "      <td>55.500000</td>\n",
       "      <td>2935.000000</td>\n",
       "      <td>141.000000</td>\n",
       "      <td>3.580000</td>\n",
       "      <td>3.410000</td>\n",
       "      <td>9.400000</td>\n",
       "      <td>116.000000</td>\n",
       "      <td>5500.000000</td>\n",
       "      <td>30.000000</td>\n",
       "      <td>34.000000</td>\n",
       "      <td>16503.000000</td>\n",
       "    </tr>\n",
       "    <tr>\n",
       "      <th>max</th>\n",
       "      <td>205.000000</td>\n",
       "      <td>3.000000</td>\n",
       "      <td>120.900000</td>\n",
       "      <td>208.100000</td>\n",
       "      <td>72.300000</td>\n",
       "      <td>59.800000</td>\n",
       "      <td>4066.000000</td>\n",
       "      <td>326.000000</td>\n",
       "      <td>3.940000</td>\n",
       "      <td>4.170000</td>\n",
       "      <td>23.000000</td>\n",
       "      <td>288.000000</td>\n",
       "      <td>6600.000000</td>\n",
       "      <td>49.000000</td>\n",
       "      <td>54.000000</td>\n",
       "      <td>45400.000000</td>\n",
       "    </tr>\n",
       "  </tbody>\n",
       "</table>\n",
       "</div>"
      ],
      "text/plain": [
       "           car_ID   symboling   wheelbase   carlength    carwidth   carheight  \\\n",
       "count  205.000000  205.000000  205.000000  205.000000  205.000000  205.000000   \n",
       "mean   103.000000    0.834146   98.756585  174.049268   65.907805   53.724878   \n",
       "std     59.322565    1.245307    6.021776   12.337289    2.145204    2.443522   \n",
       "min      1.000000   -2.000000   86.600000  141.100000   60.300000   47.800000   \n",
       "25%     52.000000    0.000000   94.500000  166.300000   64.100000   52.000000   \n",
       "50%    103.000000    1.000000   97.000000  173.200000   65.500000   54.100000   \n",
       "75%    154.000000    2.000000  102.400000  183.100000   66.900000   55.500000   \n",
       "max    205.000000    3.000000  120.900000  208.100000   72.300000   59.800000   \n",
       "\n",
       "        curbweight  enginesize   boreratio      stroke  compressionratio  \\\n",
       "count   205.000000  205.000000  205.000000  205.000000        205.000000   \n",
       "mean   2555.565854  126.907317    3.329756    3.255415         10.142537   \n",
       "std     520.680204   41.642693    0.270844    0.313597          3.972040   \n",
       "min    1488.000000   61.000000    2.540000    2.070000          7.000000   \n",
       "25%    2145.000000   97.000000    3.150000    3.110000          8.600000   \n",
       "50%    2414.000000  120.000000    3.310000    3.290000          9.000000   \n",
       "75%    2935.000000  141.000000    3.580000    3.410000          9.400000   \n",
       "max    4066.000000  326.000000    3.940000    4.170000         23.000000   \n",
       "\n",
       "       horsepower      peakrpm     citympg  highwaympg         price  \n",
       "count  205.000000   205.000000  205.000000  205.000000    205.000000  \n",
       "mean   104.117073  5125.121951   25.219512   30.751220  13276.710571  \n",
       "std     39.544167   476.985643    6.542142    6.886443   7988.852332  \n",
       "min     48.000000  4150.000000   13.000000   16.000000   5118.000000  \n",
       "25%     70.000000  4800.000000   19.000000   25.000000   7788.000000  \n",
       "50%     95.000000  5200.000000   24.000000   30.000000  10295.000000  \n",
       "75%    116.000000  5500.000000   30.000000   34.000000  16503.000000  \n",
       "max    288.000000  6600.000000   49.000000   54.000000  45400.000000  "
      ]
     },
     "execution_count": 4,
     "metadata": {},
     "output_type": "execute_result"
    }
   ],
   "source": [
    "df.describe()"
   ]
  },
  {
   "cell_type": "code",
   "execution_count": 5,
   "id": "ce47824c",
   "metadata": {},
   "outputs": [
    {
     "data": {
      "text/plain": [
       "Index(['car_ID', 'symboling', 'CarName', 'fueltype', 'aspiration',\n",
       "       'doornumber', 'carbody', 'drivewheel', 'enginelocation', 'wheelbase',\n",
       "       'carlength', 'carwidth', 'carheight', 'curbweight', 'enginetype',\n",
       "       'cylindernumber', 'enginesize', 'fuelsystem', 'boreratio', 'stroke',\n",
       "       'compressionratio', 'horsepower', 'peakrpm', 'citympg', 'highwaympg',\n",
       "       'price'],\n",
       "      dtype='object')"
      ]
     },
     "execution_count": 5,
     "metadata": {},
     "output_type": "execute_result"
    }
   ],
   "source": [
    "df.columns"
   ]
  },
  {
   "cell_type": "code",
   "execution_count": 6,
   "id": "2052bd6a",
   "metadata": {},
   "outputs": [],
   "source": [
    "df.drop(['car_ID','CarName','enginelocation','fuelsystem'],axis = 1,inplace=True)"
   ]
  },
  {
   "cell_type": "code",
   "execution_count": 7,
   "id": "84379e30",
   "metadata": {},
   "outputs": [],
   "source": [
    "#one hot encode the symboling column of df\n",
    "df = pd.get_dummies(df,columns=['symboling'])"
   ]
  },
  {
   "cell_type": "code",
   "execution_count": 8,
   "id": "f6ec08fc",
   "metadata": {},
   "outputs": [],
   "source": [
    "#one hot encode the fueltype column of df\n",
    "df = pd.get_dummies(df,columns=['fueltype'])"
   ]
  },
  {
   "cell_type": "code",
   "execution_count": 9,
   "id": "16a74164",
   "metadata": {},
   "outputs": [],
   "source": [
    "#one hot encode the aspiration column of df\n",
    "df = pd.get_dummies(df,columns=['aspiration'])"
   ]
  },
  {
   "cell_type": "code",
   "execution_count": 10,
   "id": "54a795b3",
   "metadata": {},
   "outputs": [],
   "source": [
    "#one hot encode the doornumber column of df\n",
    "df = pd.get_dummies(df,columns=['doornumber'])"
   ]
  },
  {
   "cell_type": "code",
   "execution_count": 11,
   "id": "3786d274",
   "metadata": {},
   "outputs": [],
   "source": [
    "#one hot encode the carbody column of df\n",
    "df = pd.get_dummies(df,columns=['carbody'])"
   ]
  },
  {
   "cell_type": "code",
   "execution_count": 12,
   "id": "af1ca412",
   "metadata": {},
   "outputs": [],
   "source": [
    "#one hot encode the drivewheel column of df\n",
    "df = pd.get_dummies(df,columns=['drivewheel'])"
   ]
  },
  {
   "cell_type": "code",
   "execution_count": 13,
   "id": "c215cde1",
   "metadata": {},
   "outputs": [],
   "source": [
    "#one hot encode the enginetype column of df\n",
    "df = pd.get_dummies(df,columns=['enginetype'])"
   ]
  },
  {
   "cell_type": "code",
   "execution_count": 14,
   "id": "ed5656b9",
   "metadata": {},
   "outputs": [
    {
     "data": {
      "text/plain": [
       "(205, 42)"
      ]
     },
     "execution_count": 14,
     "metadata": {},
     "output_type": "execute_result"
    }
   ],
   "source": [
    "df.shape"
   ]
  },
  {
   "cell_type": "code",
   "execution_count": 15,
   "id": "9fb94c4f",
   "metadata": {},
   "outputs": [
    {
     "data": {
      "text/plain": [
       "array(['four', 'six', 'five', 'three', 'twelve', 'two', 'eight'],\n",
       "      dtype=object)"
      ]
     },
     "execution_count": 15,
     "metadata": {},
     "output_type": "execute_result"
    }
   ],
   "source": [
    "df['cylindernumber'].unique()"
   ]
  },
  {
   "cell_type": "code",
   "execution_count": 16,
   "id": "b626dc3f",
   "metadata": {},
   "outputs": [],
   "source": [
    "def update_cn(x):\n",
    "    if x == 'four':\n",
    "        return 4\n",
    "    elif x == 'six':\n",
    "        return 6\n",
    "    elif x == 'five':\n",
    "        return 5\n",
    "    elif x == 'three':\n",
    "        return 3\n",
    "    elif x == 'twelve':\n",
    "        return 12\n",
    "    elif x == 'two':\n",
    "        return 2\n",
    "    else:\n",
    "        return 8"
   ]
  },
  {
   "cell_type": "code",
   "execution_count": 17,
   "id": "a659eaaa",
   "metadata": {},
   "outputs": [],
   "source": [
    "\n",
    "df['cylindernumber'] = df['cylindernumber'].apply(update_cn)"
   ]
  },
  {
   "cell_type": "code",
   "execution_count": 18,
   "id": "5d8b7b4c",
   "metadata": {},
   "outputs": [],
   "source": [
    "##Standardize all the attributes of df for linear regression\n",
    "df = (df - df.mean()) / df.std()"
   ]
  },
  {
   "cell_type": "code",
   "execution_count": 19,
   "id": "944223bd",
   "metadata": {},
   "outputs": [],
   "source": [
    "Y = np.array(df['price']).reshape(-1,1)"
   ]
  },
  {
   "cell_type": "code",
   "execution_count": 20,
   "id": "c1b25fba",
   "metadata": {},
   "outputs": [],
   "source": [
    "df.drop(['price'],axis=1,inplace=True)"
   ]
  },
  {
   "cell_type": "code",
   "execution_count": 21,
   "id": "7c70f1fd",
   "metadata": {},
   "outputs": [],
   "source": [
    "X = np.array(df)"
   ]
  },
  {
   "cell_type": "code",
   "execution_count": 22,
   "id": "fe5b3ff2",
   "metadata": {},
   "outputs": [],
   "source": [
    "## adding column of ones to X for bias\n",
    "X = np.concatenate(((np.ones((len(Y),1))),X),axis=1)"
   ]
  },
  {
   "cell_type": "code",
   "execution_count": 23,
   "id": "c24710f6",
   "metadata": {},
   "outputs": [
    {
     "data": {
      "text/plain": [
       "(205, 42)"
      ]
     },
     "execution_count": 23,
     "metadata": {},
     "output_type": "execute_result"
    }
   ],
   "source": [
    "X.shape"
   ]
  },
  {
   "cell_type": "code",
   "execution_count": 24,
   "id": "2fa4fd05",
   "metadata": {},
   "outputs": [
    {
     "data": {
      "text/plain": [
       "(205, 1)"
      ]
     },
     "execution_count": 24,
     "metadata": {},
     "output_type": "execute_result"
    }
   ],
   "source": [
    "Y.shape"
   ]
  },
  {
   "cell_type": "code",
   "execution_count": 25,
   "id": "4f9f1784",
   "metadata": {},
   "outputs": [],
   "source": [
    "#initializing weight matrix for linear regression\n",
    "theta = np.zeros((X.shape[1],1))"
   ]
  },
  {
   "cell_type": "code",
   "execution_count": 26,
   "id": "2afc5b1f",
   "metadata": {},
   "outputs": [
    {
     "data": {
      "text/plain": [
       "(42, 1)"
      ]
     },
     "execution_count": 26,
     "metadata": {},
     "output_type": "execute_result"
    }
   ],
   "source": [
    "theta.shape"
   ]
  },
  {
   "cell_type": "code",
   "execution_count": 27,
   "id": "52b8a08b",
   "metadata": {},
   "outputs": [],
   "source": [
    "Xtrain, Xtest, Ytrain, Ytest = mod.train_test_split(X,Y,test_size=0.2)"
   ]
  },
  {
   "cell_type": "code",
   "execution_count": 28,
   "id": "8b8942ab",
   "metadata": {},
   "outputs": [],
   "source": [
    "def compute_cost(x,y,theta):\n",
    "    h_x = x.dot(theta)\n",
    "    J = (1/2*len(y))*sum((np.square(h_x - y)))\n",
    "    return J       ######This function returns the value of cost function"
   ]
  },
  {
   "cell_type": "code",
   "execution_count": 29,
   "id": "5c99dee2",
   "metadata": {},
   "outputs": [],
   "source": [
    "def gradient_descent(x,y,theta,alpha,iteration):\n",
    "    J_hist = []\n",
    "    print('descent started .......')\n",
    "    for i in range(iteration):\n",
    "        h_x = x.dot(theta)\n",
    "        J_hist.append(compute_cost(x,y,theta))\n",
    "        theta = theta -(alpha/len(y))*(np.dot(x.T,h_x-y))\n",
    "    print('descent finished.')\n",
    "    return theta, J_hist    ########This function is used to train our linear regression model using gradient descent t\n"
   ]
  },
  {
   "cell_type": "code",
   "execution_count": 40,
   "id": "4087878d",
   "metadata": {},
   "outputs": [
    {
     "name": "stdout",
     "output_type": "stream",
     "text": [
      "descent started .......\n",
      "descent finished.\n"
     ]
    }
   ],
   "source": [
    "final_theta, cost_history = gradient_descent(Xtrain,Ytrain,theta,0.01,200)"
   ]
  },
  {
   "cell_type": "code",
   "execution_count": 41,
   "id": "d56b49a9",
   "metadata": {},
   "outputs": [
    {
     "data": {
      "text/plain": [
       "array([[ 4.47622648e-05],\n",
       "       [ 8.12496580e-02],\n",
       "       [ 3.98721594e-02],\n",
       "       [ 1.23209773e-01],\n",
       "       [ 3.73503311e-02],\n",
       "       [ 1.09902275e-01],\n",
       "       [ 1.72894084e-01],\n",
       "       [ 1.85200831e-01],\n",
       "       [-4.10346133e-03],\n",
       "       [-6.45003095e-03],\n",
       "       [ 2.68245181e-02],\n",
       "       [ 1.41923438e-01],\n",
       "       [ 3.71078406e-02],\n",
       "       [-3.34981665e-02],\n",
       "       [-2.98066040e-02],\n",
       "       [-1.60048338e-02],\n",
       "       [-2.04816065e-02],\n",
       "       [-7.44892080e-03],\n",
       "       [ 1.13266336e-02],\n",
       "       [-1.55281886e-02],\n",
       "       [ 3.66734655e-02],\n",
       "       [ 2.65797962e-02],\n",
       "       [-2.65797962e-02],\n",
       "       [-9.92008594e-04],\n",
       "       [ 9.92008594e-04],\n",
       "       [ 5.95976184e-04],\n",
       "       [-5.95976184e-04],\n",
       "       [ 9.46154948e-02],\n",
       "       [ 5.79729841e-02],\n",
       "       [-3.60821295e-02],\n",
       "       [ 1.07629475e-02],\n",
       "       [-4.71695890e-02],\n",
       "       [-2.06956236e-02],\n",
       "       [-6.72257033e-02],\n",
       "       [ 7.73485612e-02],\n",
       "       [-1.51331999e-02],\n",
       "       [ 1.10097749e-02],\n",
       "       [-5.23245453e-02],\n",
       "       [ 1.27862248e-02],\n",
       "       [ 3.06079575e-02],\n",
       "       [-1.63821979e-02],\n",
       "       [ 3.87655556e-02]])"
      ]
     },
     "execution_count": 41,
     "metadata": {},
     "output_type": "execute_result"
    }
   ],
   "source": [
    "final_theta # here final_theta is the final array of regression coefficients which minimize the cost function "
   ]
  },
  {
   "cell_type": "code",
   "execution_count": 42,
   "id": "7f335d26",
   "metadata": {},
   "outputs": [
    {
     "data": {
      "text/plain": [
       "200"
      ]
     },
     "execution_count": 42,
     "metadata": {},
     "output_type": "execute_result"
    }
   ],
   "source": [
    "len(cost_history)"
   ]
  },
  {
   "cell_type": "code",
   "execution_count": 43,
   "id": "5c645026",
   "metadata": {},
   "outputs": [
    {
     "data": {
      "text/plain": [
       "[<matplotlib.lines.Line2D at 0x7fd83c218640>]"
      ]
     },
     "execution_count": 43,
     "metadata": {},
     "output_type": "execute_result"
    },
    {
     "data": {
      "image/png": "[encoded data removed]",
      "text/plain": [
       "<Figure size 4000x1000 with 1 Axes>"
      ]
     },
     "metadata": {},
     "output_type": "display_data"
    }
   ],
   "source": [
    "plt.figure(figsize=(40,10))\n",
    "plt.plot(list(range(1,201)),cost_history,color='red')"
   ]
  },
  {
   "cell_type": "code",
   "execution_count": 44,
   "id": "db56d6ec",
   "metadata": {},
   "outputs": [],
   "source": [
    "Y_predict = Xtest.dot(final_theta)"
   ]
  },
  {
   "cell_type": "code",
   "execution_count": 45,
   "id": "4624a8ca",
   "metadata": {},
   "outputs": [
    {
     "data": {
      "text/plain": [
       "array([[-3.42831587e-01],\n",
       "       [-6.28030744e-01],\n",
       "       [-3.42084323e-01],\n",
       "       [-4.80489566e-01],\n",
       "       [ 7.02473529e-01],\n",
       "       [-8.59194664e-01],\n",
       "       [ 1.49184646e+00],\n",
       "       [-1.02133184e+00],\n",
       "       [-5.37427336e-01],\n",
       "       [ 6.05756147e-01],\n",
       "       [ 6.94614024e-01],\n",
       "       [ 4.01788747e-01],\n",
       "       [-8.04572520e-01],\n",
       "       [-9.37440992e-01],\n",
       "       [-4.11158791e-01],\n",
       "       [-7.73739756e-01],\n",
       "       [ 1.59438794e+00],\n",
       "       [ 7.46889372e-01],\n",
       "       [ 1.08992342e+00],\n",
       "       [-5.13183686e-01],\n",
       "       [-9.23910570e-01],\n",
       "       [-4.18066416e-01],\n",
       "       [ 6.66283322e-01],\n",
       "       [-3.98709677e-01],\n",
       "       [-2.13669109e-01],\n",
       "       [ 4.30857614e-01],\n",
       "       [ 4.32656286e-01],\n",
       "       [ 5.97712609e-05],\n",
       "       [ 1.54676368e+00],\n",
       "       [ 1.73254538e+00],\n",
       "       [ 8.27861905e-01],\n",
       "       [-9.46247791e-01],\n",
       "       [ 5.94147054e-01],\n",
       "       [ 4.57967095e-01],\n",
       "       [ 1.52274580e+00],\n",
       "       [-5.39560695e-01],\n",
       "       [-6.67497016e-01],\n",
       "       [-3.92327592e-01],\n",
       "       [-8.58247222e-01],\n",
       "       [ 1.29188282e-01],\n",
       "       [-2.66159589e-01]])"
      ]
     },
     "execution_count": 45,
     "metadata": {},
     "output_type": "execute_result"
    }
   ],
   "source": [
    "Y_predict  ####Our final pediction"
   ]
  },
  {
   "cell_type": "code",
   "execution_count": 46,
   "id": "17afffaa",
   "metadata": {},
   "outputs": [
    {
     "data": {
      "text/plain": [
       "array([[-0.54184386],\n",
       "       [-0.56312351],\n",
       "       [-0.41078623],\n",
       "       [-0.68867346],\n",
       "       [ 0.40384893],\n",
       "       [-0.68566927],\n",
       "       [ 1.5365523 ],\n",
       "       [-0.87393161],\n",
       "       [-0.52344322],\n",
       "       [ 0.45354317],\n",
       "       [ 0.4754487 ],\n",
       "       [ 0.40535102],\n",
       "       [-0.73623974],\n",
       "       [-0.84977294],\n",
       "       [-0.81259614],\n",
       "       [-0.97357045],\n",
       "       [ 3.50967677],\n",
       "       [ 1.17016676],\n",
       "       [ 0.41073352],\n",
       "       [-0.6307177 ],\n",
       "       [-0.54578685],\n",
       "       [-0.41166246],\n",
       "       [ 0.14048193],\n",
       "       [-0.54522357],\n",
       "       [-0.17921355],\n",
       "       [-0.6043059 ],\n",
       "       [ 0.4034734 ],\n",
       "       [ 0.27955072],\n",
       "       [ 2.59753073],\n",
       "       [ 1.86500999],\n",
       "       [ 0.30959258],\n",
       "       [-0.83888277],\n",
       "       [-0.0096022 ],\n",
       "       [-0.04214755],\n",
       "       [ 2.18846071],\n",
       "       [-0.41266385],\n",
       "       [-0.77329137],\n",
       "       [-0.42330368],\n",
       "       [-0.82423736],\n",
       "       [ 0.24700537],\n",
       "       [-0.19811489]])"
      ]
     },
     "execution_count": 46,
     "metadata": {},
     "output_type": "execute_result"
    }
   ],
   "source": [
    "Ytest "
   ]
  },
  {
   "cell_type": "code",
   "execution_count": 47,
   "id": "cd6232a6",
   "metadata": {},
   "outputs": [
    {
     "data": {
      "text/plain": [
       "0.7862930812296196"
      ]
     },
     "execution_count": 47,
     "metadata": {},
     "output_type": "execute_result"
    }
   ],
   "source": [
    "metrics.r2_score(Ytest,Y_predict)"
   ]
  },
  {
   "cell_type": "code",
   "execution_count": 48,
   "id": "5829b115",
   "metadata": {},
   "outputs": [
    {
     "data": {
      "text/plain": [
       "0.46702313927203637"
      ]
     },
     "execution_count": 48,
     "metadata": {},
     "output_type": "execute_result"
    }
   ],
   "source": [
    "metrics.mean_squared_error(Ytest, Y_predict)**0.5"
   ]
  },
  {
   "cell_type": "code",
   "execution_count": null,
   "id": "f398ed13",
   "metadata": {},
   "outputs": [],
   "source": []
  }
 ],
 "metadata": {
  "kernelspec": {
   "display_name": "Python 3",
   "language": "python",
   "name": "python3"
  },
  "language_info": {
   "codemirror_mode": {
    "name": "ipython",
    "version": 3
   },
   "file_extension": ".py",
   "mimetype": "text/x-python",
   "name": "python",
   "nbconvert_exporter": "python",
   "pygments_lexer": "ipython3",
   "version": "3.10.4"
  },
  "vscode": {
   "interpreter": {
    "hash": "3ad933181bd8a04b432d3370b9dc3b0662ad032c4dfaa4e4f1596c548f763858"
   }
  }
 },
 "nbformat": 4,
 "nbformat_minor": 5
}
