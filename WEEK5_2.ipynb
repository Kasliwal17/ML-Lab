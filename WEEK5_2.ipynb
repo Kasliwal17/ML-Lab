{
 "cells": [
  {
   "cell_type": "code",
   "execution_count": 36,
   "id": "48eb4c00",
   "metadata": {},
   "outputs": [],
   "source": [
    "import numpy as np\n",
    "import pandas as pd\n",
    "import matplotlib.pyplot as plt\n",
    "import seaborn as sns\n",
    "from sklearn.utils import shuffle"
   ]
  },
  {
   "cell_type": "code",
   "execution_count": 4,
   "id": "72d94a57",
   "metadata": {},
   "outputs": [],
   "source": [
    "from sklearn.preprocessing import StandardScaler"
   ]
  },
  {
   "cell_type": "code",
   "execution_count": 5,
   "id": "d59543d5",
   "metadata": {},
   "outputs": [],
   "source": [
    "df = pd.read_csv('Titanic/train.csv', index_col='PassengerId')"
   ]
  },
  {
   "cell_type": "code",
   "execution_count": 6,
   "id": "97edf3e3",
   "metadata": {},
   "outputs": [
    {
     "data": {
      "text/plain": [
       "Index(['Survived', 'Pclass', 'Name', 'Sex', 'Age', 'SibSp', 'Parch', 'Ticket',\n",
       "       'Fare', 'Cabin', 'Embarked'],\n",
       "      dtype='object')"
      ]
     },
     "execution_count": 6,
     "metadata": {},
     "output_type": "execute_result"
    }
   ],
   "source": [
    "df.columns"
   ]
  },
  {
   "cell_type": "code",
   "execution_count": 7,
   "id": "8c967034",
   "metadata": {},
   "outputs": [
    {
     "data": {
      "text/html": [
       "<div>\n",
       "<style scoped>\n",
       "    .dataframe tbody tr th:only-of-type {\n",
       "        vertical-align: middle;\n",
       "    }\n",
       "\n",
       "    .dataframe tbody tr th {\n",
       "        vertical-align: top;\n",
       "    }\n",
       "\n",
       "    .dataframe thead th {\n",
       "        text-align: right;\n",
       "    }\n",
       "</style>\n",
       "<table border=\"1\" class=\"dataframe\">\n",
       "  <thead>\n",
       "    <tr style=\"text-align: right;\">\n",
       "      <th></th>\n",
       "      <th>Survived</th>\n",
       "      <th>Pclass</th>\n",
       "      <th>Name</th>\n",
       "      <th>Sex</th>\n",
       "      <th>Age</th>\n",
       "      <th>SibSp</th>\n",
       "      <th>Parch</th>\n",
       "      <th>Ticket</th>\n",
       "      <th>Fare</th>\n",
       "      <th>Cabin</th>\n",
       "      <th>Embarked</th>\n",
       "    </tr>\n",
       "    <tr>\n",
       "      <th>PassengerId</th>\n",
       "      <th></th>\n",
       "      <th></th>\n",
       "      <th></th>\n",
       "      <th></th>\n",
       "      <th></th>\n",
       "      <th></th>\n",
       "      <th></th>\n",
       "      <th></th>\n",
       "      <th></th>\n",
       "      <th></th>\n",
       "      <th></th>\n",
       "    </tr>\n",
       "  </thead>\n",
       "  <tbody>\n",
       "    <tr>\n",
       "      <th>1</th>\n",
       "      <td>0</td>\n",
       "      <td>3</td>\n",
       "      <td>Braund, Mr. Owen Harris</td>\n",
       "      <td>male</td>\n",
       "      <td>22.0</td>\n",
       "      <td>1</td>\n",
       "      <td>0</td>\n",
       "      <td>A/5 21171</td>\n",
       "      <td>7.2500</td>\n",
       "      <td>NaN</td>\n",
       "      <td>S</td>\n",
       "    </tr>\n",
       "    <tr>\n",
       "      <th>2</th>\n",
       "      <td>1</td>\n",
       "      <td>1</td>\n",
       "      <td>Cumings, Mrs. John Bradley (Florence Briggs Th...</td>\n",
       "      <td>female</td>\n",
       "      <td>38.0</td>\n",
       "      <td>1</td>\n",
       "      <td>0</td>\n",
       "      <td>PC 17599</td>\n",
       "      <td>71.2833</td>\n",
       "      <td>C85</td>\n",
       "      <td>C</td>\n",
       "    </tr>\n",
       "    <tr>\n",
       "      <th>3</th>\n",
       "      <td>1</td>\n",
       "      <td>3</td>\n",
       "      <td>Heikkinen, Miss. Laina</td>\n",
       "      <td>female</td>\n",
       "      <td>26.0</td>\n",
       "      <td>0</td>\n",
       "      <td>0</td>\n",
       "      <td>STON/O2. 3101282</td>\n",
       "      <td>7.9250</td>\n",
       "      <td>NaN</td>\n",
       "      <td>S</td>\n",
       "    </tr>\n",
       "    <tr>\n",
       "      <th>4</th>\n",
       "      <td>1</td>\n",
       "      <td>1</td>\n",
       "      <td>Futrelle, Mrs. Jacques Heath (Lily May Peel)</td>\n",
       "      <td>female</td>\n",
       "      <td>35.0</td>\n",
       "      <td>1</td>\n",
       "      <td>0</td>\n",
       "      <td>113803</td>\n",
       "      <td>53.1000</td>\n",
       "      <td>C123</td>\n",
       "      <td>S</td>\n",
       "    </tr>\n",
       "    <tr>\n",
       "      <th>5</th>\n",
       "      <td>0</td>\n",
       "      <td>3</td>\n",
       "      <td>Allen, Mr. William Henry</td>\n",
       "      <td>male</td>\n",
       "      <td>35.0</td>\n",
       "      <td>0</td>\n",
       "      <td>0</td>\n",
       "      <td>373450</td>\n",
       "      <td>8.0500</td>\n",
       "      <td>NaN</td>\n",
       "      <td>S</td>\n",
       "    </tr>\n",
       "  </tbody>\n",
       "</table>\n",
       "</div>"
      ],
      "text/plain": [
       "             Survived  Pclass  \\\n",
       "PassengerId                     \n",
       "1                   0       3   \n",
       "2                   1       1   \n",
       "3                   1       3   \n",
       "4                   1       1   \n",
       "5                   0       3   \n",
       "\n",
       "                                                          Name     Sex   Age  \\\n",
       "PassengerId                                                                    \n",
       "1                                      Braund, Mr. Owen Harris    male  22.0   \n",
       "2            Cumings, Mrs. John Bradley (Florence Briggs Th...  female  38.0   \n",
       "3                                       Heikkinen, Miss. Laina  female  26.0   \n",
       "4                 Futrelle, Mrs. Jacques Heath (Lily May Peel)  female  35.0   \n",
       "5                                     Allen, Mr. William Henry    male  35.0   \n",
       "\n",
       "             SibSp  Parch            Ticket     Fare Cabin Embarked  \n",
       "PassengerId                                                          \n",
       "1                1      0         A/5 21171   7.2500   NaN        S  \n",
       "2                1      0          PC 17599  71.2833   C85        C  \n",
       "3                0      0  STON/O2. 3101282   7.9250   NaN        S  \n",
       "4                1      0            113803  53.1000  C123        S  \n",
       "5                0      0            373450   8.0500   NaN        S  "
      ]
     },
     "execution_count": 7,
     "metadata": {},
     "output_type": "execute_result"
    }
   ],
   "source": [
    "df.head()"
   ]
  },
  {
   "cell_type": "code",
   "execution_count": 8,
   "id": "0f8a35e9",
   "metadata": {},
   "outputs": [],
   "source": [
    "#making sex column binary\n",
    "df['Sex'] = df['Sex'].apply(lambda x: 1 if x=='female' else 0)"
   ]
  },
  {
   "cell_type": "code",
   "execution_count": 9,
   "id": "f24ee61d",
   "metadata": {},
   "outputs": [],
   "source": [
    "#creating new column relatives\n",
    "df['relatives']= df['SibSp'] + df['Parch']\n",
    "df.drop(['SibSp','Parch'],axis = 1,inplace = True)"
   ]
  },
  {
   "cell_type": "code",
   "execution_count": 10,
   "id": "db68c48e",
   "metadata": {},
   "outputs": [],
   "source": [
    "df['Age'].fillna(0,inplace=True)"
   ]
  },
  {
   "cell_type": "code",
   "execution_count": 11,
   "id": "553faf5a",
   "metadata": {},
   "outputs": [],
   "source": [
    "y_train = df['Survived']"
   ]
  },
  {
   "cell_type": "code",
   "execution_count": 12,
   "id": "07ed73f0",
   "metadata": {},
   "outputs": [],
   "source": [
    "x_train = df[['Pclass','Sex','Age','Fare','relatives']]"
   ]
  },
  {
   "cell_type": "code",
   "execution_count": 13,
   "id": "7a80c857",
   "metadata": {},
   "outputs": [
    {
     "data": {
      "text/html": [
       "<div>\n",
       "<style scoped>\n",
       "    .dataframe tbody tr th:only-of-type {\n",
       "        vertical-align: middle;\n",
       "    }\n",
       "\n",
       "    .dataframe tbody tr th {\n",
       "        vertical-align: top;\n",
       "    }\n",
       "\n",
       "    .dataframe thead th {\n",
       "        text-align: right;\n",
       "    }\n",
       "</style>\n",
       "<table border=\"1\" class=\"dataframe\">\n",
       "  <thead>\n",
       "    <tr style=\"text-align: right;\">\n",
       "      <th></th>\n",
       "      <th>Pclass</th>\n",
       "      <th>Sex</th>\n",
       "      <th>Age</th>\n",
       "      <th>Fare</th>\n",
       "      <th>relatives</th>\n",
       "    </tr>\n",
       "    <tr>\n",
       "      <th>PassengerId</th>\n",
       "      <th></th>\n",
       "      <th></th>\n",
       "      <th></th>\n",
       "      <th></th>\n",
       "      <th></th>\n",
       "    </tr>\n",
       "  </thead>\n",
       "  <tbody>\n",
       "    <tr>\n",
       "      <th>1</th>\n",
       "      <td>3</td>\n",
       "      <td>0</td>\n",
       "      <td>22.0</td>\n",
       "      <td>7.2500</td>\n",
       "      <td>1</td>\n",
       "    </tr>\n",
       "    <tr>\n",
       "      <th>2</th>\n",
       "      <td>1</td>\n",
       "      <td>1</td>\n",
       "      <td>38.0</td>\n",
       "      <td>71.2833</td>\n",
       "      <td>1</td>\n",
       "    </tr>\n",
       "  </tbody>\n",
       "</table>\n",
       "</div>"
      ],
      "text/plain": [
       "             Pclass  Sex   Age     Fare  relatives\n",
       "PassengerId                                       \n",
       "1                 3    0  22.0   7.2500          1\n",
       "2                 1    1  38.0  71.2833          1"
      ]
     },
     "execution_count": 13,
     "metadata": {},
     "output_type": "execute_result"
    }
   ],
   "source": [
    "x_train.head(2)"
   ]
  },
  {
   "cell_type": "code",
   "execution_count": 14,
   "id": "7c51b7ff",
   "metadata": {},
   "outputs": [],
   "source": [
    "y_train = np.array(y_train).reshape(-1,1)\n"
   ]
  },
  {
   "cell_type": "code",
   "execution_count": 15,
   "id": "3f6af868",
   "metadata": {},
   "outputs": [
    {
     "data": {
      "text/plain": [
       "array([[ 3.    ,  0.    , 22.    ,  7.25  ,  1.    ],\n",
       "       [ 1.    ,  1.    , 38.    , 71.2833,  1.    ],\n",
       "       [ 3.    ,  1.    , 26.    ,  7.925 ,  0.    ],\n",
       "       ...,\n",
       "       [ 3.    ,  1.    ,  0.    , 23.45  ,  3.    ],\n",
       "       [ 1.    ,  0.    , 26.    , 30.    ,  0.    ],\n",
       "       [ 3.    ,  0.    , 32.    ,  7.75  ,  0.    ]])"
      ]
     },
     "execution_count": 15,
     "metadata": {},
     "output_type": "execute_result"
    }
   ],
   "source": [
    "x_train = np.array(x_train).reshape(-1,5)\n",
    "x_train"
   ]
  },
  {
   "cell_type": "code",
   "execution_count": 16,
   "id": "2565b3c4",
   "metadata": {},
   "outputs": [
    {
     "data": {
      "text/html": [
       "<style>#sk-container-id-1 {color: black;background-color: white;}#sk-container-id-1 pre{padding: 0;}#sk-container-id-1 div.sk-toggleable {background-color: white;}#sk-container-id-1 label.sk-toggleable__label {cursor: pointer;display: block;width: 100%;margin-bottom: 0;padding: 0.3em;box-sizing: border-box;text-align: center;}#sk-container-id-1 label.sk-toggleable__label-arrow:before {content: \"▸\";float: left;margin-right: 0.25em;color: #696969;}#sk-container-id-1 label.sk-toggleable__label-arrow:hover:before {color: black;}#sk-container-id-1 div.sk-estimator:hover label.sk-toggleable__label-arrow:before {color: black;}#sk-container-id-1 div.sk-toggleable__content {max-height: 0;max-width: 0;overflow: hidden;text-align: left;background-color: #f0f8ff;}#sk-container-id-1 div.sk-toggleable__content pre {margin: 0.2em;color: black;border-radius: 0.25em;background-color: #f0f8ff;}#sk-container-id-1 input.sk-toggleable__control:checked~div.sk-toggleable__content {max-height: 200px;max-width: 100%;overflow: auto;}#sk-container-id-1 input.sk-toggleable__control:checked~label.sk-toggleable__label-arrow:before {content: \"▾\";}#sk-container-id-1 div.sk-estimator input.sk-toggleable__control:checked~label.sk-toggleable__label {background-color: #d4ebff;}#sk-container-id-1 div.sk-label input.sk-toggleable__control:checked~label.sk-toggleable__label {background-color: #d4ebff;}#sk-container-id-1 input.sk-hidden--visually {border: 0;clip: rect(1px 1px 1px 1px);clip: rect(1px, 1px, 1px, 1px);height: 1px;margin: -1px;overflow: hidden;padding: 0;position: absolute;width: 1px;}#sk-container-id-1 div.sk-estimator {font-family: monospace;background-color: #f0f8ff;border: 1px dotted black;border-radius: 0.25em;box-sizing: border-box;margin-bottom: 0.5em;}#sk-container-id-1 div.sk-estimator:hover {background-color: #d4ebff;}#sk-container-id-1 div.sk-parallel-item::after {content: \"\";width: 100%;border-bottom: 1px solid gray;flex-grow: 1;}#sk-container-id-1 div.sk-label:hover label.sk-toggleable__label {background-color: #d4ebff;}#sk-container-id-1 div.sk-serial::before {content: \"\";position: absolute;border-left: 1px solid gray;box-sizing: border-box;top: 0;bottom: 0;left: 50%;z-index: 0;}#sk-container-id-1 div.sk-serial {display: flex;flex-direction: column;align-items: center;background-color: white;padding-right: 0.2em;padding-left: 0.2em;position: relative;}#sk-container-id-1 div.sk-item {position: relative;z-index: 1;}#sk-container-id-1 div.sk-parallel {display: flex;align-items: stretch;justify-content: center;background-color: white;position: relative;}#sk-container-id-1 div.sk-item::before, #sk-container-id-1 div.sk-parallel-item::before {content: \"\";position: absolute;border-left: 1px solid gray;box-sizing: border-box;top: 0;bottom: 0;left: 50%;z-index: -1;}#sk-container-id-1 div.sk-parallel-item {display: flex;flex-direction: column;z-index: 1;position: relative;background-color: white;}#sk-container-id-1 div.sk-parallel-item:first-child::after {align-self: flex-end;width: 50%;}#sk-container-id-1 div.sk-parallel-item:last-child::after {align-self: flex-start;width: 50%;}#sk-container-id-1 div.sk-parallel-item:only-child::after {width: 0;}#sk-container-id-1 div.sk-dashed-wrapped {border: 1px dashed gray;margin: 0 0.4em 0.5em 0.4em;box-sizing: border-box;padding-bottom: 0.4em;background-color: white;}#sk-container-id-1 div.sk-label label {font-family: monospace;font-weight: bold;display: inline-block;line-height: 1.2em;}#sk-container-id-1 div.sk-label-container {text-align: center;}#sk-container-id-1 div.sk-container {/* jupyter's `normalize.less` sets `[hidden] { display: none; }` but bootstrap.min.css set `[hidden] { display: none !important; }` so we also need the `!important` here to be able to override the default hidden behavior on the sphinx rendered scikit-learn.org. See: https://github.com/scikit-learn/scikit-learn/issues/21755 */display: inline-block !important;position: relative;}#sk-container-id-1 div.sk-text-repr-fallback {display: none;}</style><div id=\"sk-container-id-1\" class=\"sk-top-container\"><div class=\"sk-text-repr-fallback\"><pre>StandardScaler()</pre><b>In a Jupyter environment, please rerun this cell to show the HTML representation or trust the notebook. <br />On GitHub, the HTML representation is unable to render, please try loading this page with nbviewer.org.</b></div><div class=\"sk-container\" hidden><div class=\"sk-item\"><div class=\"sk-estimator sk-toggleable\"><input class=\"sk-toggleable__control sk-hidden--visually\" id=\"sk-estimator-id-1\" type=\"checkbox\" checked><label for=\"sk-estimator-id-1\" class=\"sk-toggleable__label sk-toggleable__label-arrow\">StandardScaler</label><div class=\"sk-toggleable__content\"><pre>StandardScaler()</pre></div></div></div></div></div>"
      ],
      "text/plain": [
       "StandardScaler()"
      ]
     },
     "execution_count": 16,
     "metadata": {},
     "output_type": "execute_result"
    }
   ],
   "source": [
    "scaler = StandardScaler()\n",
    "scaler.fit(x_train)"
   ]
  },
  {
   "cell_type": "code",
   "execution_count": 17,
   "id": "420fc82d",
   "metadata": {},
   "outputs": [],
   "source": [
    "x_train = scaler.fit_transform(x_train)"
   ]
  },
  {
   "cell_type": "code",
   "execution_count": 18,
   "id": "33704f5e",
   "metadata": {},
   "outputs": [],
   "source": [
    "# adding column of ones to x_train for bias\n",
    "x_train = np.concatenate((np.ones((len(y_train),1)),x_train),axis=1)"
   ]
  },
  {
   "cell_type": "markdown",
   "id": "45934a9b",
   "metadata": {},
   "source": [
    "Logistic Regression"
   ]
  },
  {
   "cell_type": "code",
   "execution_count": 19,
   "id": "c42ec0ee",
   "metadata": {},
   "outputs": [
    {
     "data": {
      "text/plain": [
       "array([[1],\n",
       "       [1],\n",
       "       [1],\n",
       "       [1],\n",
       "       [1],\n",
       "       [1]])"
      ]
     },
     "execution_count": 19,
     "metadata": {},
     "output_type": "execute_result"
    }
   ],
   "source": [
    "theta = np.array([1,1,1,1,1,1]).reshape(-1,1)\n",
    "theta"
   ]
  },
  {
   "cell_type": "code",
   "execution_count": 20,
   "id": "9f6e75d8",
   "metadata": {},
   "outputs": [],
   "source": [
    "def sigmoid(x):\n",
    "    return 1/(1+np.exp(-x))"
   ]
  },
  {
   "cell_type": "code",
   "execution_count": 21,
   "id": "edc53196",
   "metadata": {},
   "outputs": [],
   "source": [
    "def H_X(x,theta):\n",
    "    h_x = x.dot(theta)\n",
    "    h_x = [sigmoid(element) for element in h_x ]\n",
    "    return np.array(h_x).reshape(-1,1)"
   ]
  },
  {
   "cell_type": "code",
   "execution_count": 22,
   "id": "d0abe9fe",
   "metadata": {},
   "outputs": [],
   "source": [
    "def compute_cost(x,y,theta):\n",
    "    h_x = H_X(x,theta)\n",
    "    ones = np.ones((len(y),1))\n",
    "    J = (-1/(len(y))) * ((np.log(h_x )).T.dot(y) +  (np.log(ones - h_x)).T.dot(ones - y))\n",
    "    return J"
   ]
  },
  {
   "cell_type": "code",
   "execution_count": 23,
   "id": "540cd2fd",
   "metadata": {},
   "outputs": [],
   "source": [
    "def gradient_descent(x,y,theta,iteration,alpha):\n",
    "    J_hist = []\n",
    "    \n",
    "    print('descent started')\n",
    "    for i in range(iteration):\n",
    "        J_hist.append(compute_cost(x,y,theta))\n",
    "        h_x = H_X(x,theta)\n",
    "        theta = theta - (alpha/len(y)) * (x.T.dot((h_x - y)))\n",
    "    print('descent finished')\n",
    "    return theta, np.array(J_hist).reshape(-1,1)"
   ]
  },
  {
   "cell_type": "code",
   "execution_count": 24,
   "id": "08b1924e",
   "metadata": {},
   "outputs": [],
   "source": [
    "def result(x,theta):\n",
    "    h_x = H_X(x,theta)\n",
    "    y = []\n",
    "    for i in range(len(x)):\n",
    "        if h_x[i][0] >= 1/2:\n",
    "            y.append(1)\n",
    "        else:\n",
    "            y.append(0)\n",
    "    return np.array(y)"
   ]
  },
  {
   "cell_type": "code",
   "execution_count": 26,
   "id": "8962c1fe",
   "metadata": {},
   "outputs": [
    {
     "name": "stdout",
     "output_type": "stream",
     "text": [
      "descent started\n",
      "descent finished\n"
     ]
    }
   ],
   "source": [
    "f_theta, j_history = gradient_descent(x_train,y_train,theta,300,0.1)"
   ]
  },
  {
   "cell_type": "code",
   "execution_count": 27,
   "id": "48119a8d",
   "metadata": {},
   "outputs": [
    {
     "data": {
      "text/plain": [
       "array([[-0.54285759],\n",
       "       [-0.48130996],\n",
       "       [ 1.27348764],\n",
       "       [-0.17842894],\n",
       "       [ 0.57657721],\n",
       "       [-0.40380083]])"
      ]
     },
     "execution_count": 27,
     "metadata": {},
     "output_type": "execute_result"
    }
   ],
   "source": [
    "f_theta"
   ]
  },
  {
   "cell_type": "code",
   "execution_count": 28,
   "id": "5414a950",
   "metadata": {},
   "outputs": [
    {
     "data": {
      "text/plain": [
       "array([[0.99135644],\n",
       "       [0.97868686],\n",
       "       [0.96634384],\n",
       "       [0.95431739],\n",
       "       [0.94259779],\n",
       "       [0.93117561],\n",
       "       [0.9200417 ],\n",
       "       [0.9091872 ],\n",
       "       [0.89860354],\n",
       "       [0.88828246],\n",
       "       [0.87821597],\n",
       "       [0.86839639],\n",
       "       [0.8588163 ],\n",
       "       [0.8494686 ],\n",
       "       [0.84034645],\n",
       "       [0.83144328],\n",
       "       [0.82275278],\n",
       "       [0.81426891],\n",
       "       [0.80598588],\n",
       "       [0.79789814],\n",
       "       [0.79000037],\n",
       "       [0.78228747],\n",
       "       [0.77475458],\n",
       "       [0.76739701],\n",
       "       [0.76021031],\n",
       "       [0.75319017],\n",
       "       [0.7463325 ],\n",
       "       [0.73963335],\n",
       "       [0.73308896],\n",
       "       [0.7266957 ],\n",
       "       [0.72045009],\n",
       "       [0.71434879],\n",
       "       [0.70838858],\n",
       "       [0.70256635],\n",
       "       [0.69687913],\n",
       "       [0.69132403],\n",
       "       [0.68589826],\n",
       "       [0.68059913],\n",
       "       [0.67542402],\n",
       "       [0.6703704 ],\n",
       "       [0.66543581],\n",
       "       [0.66061783],\n",
       "       [0.65591414],\n",
       "       [0.65132245],\n",
       "       [0.64684051],\n",
       "       [0.64246614],\n",
       "       [0.6381972 ],\n",
       "       [0.63403156],\n",
       "       [0.62996715],\n",
       "       [0.62600192],\n",
       "       [0.62213385],\n",
       "       [0.61836094],\n",
       "       [0.61468122],\n",
       "       [0.61109273],\n",
       "       [0.60759354],\n",
       "       [0.60418172],\n",
       "       [0.60085539],\n",
       "       [0.59761266],\n",
       "       [0.59445166],\n",
       "       [0.59137053],\n",
       "       [0.58836746],\n",
       "       [0.58544061],\n",
       "       [0.58258819],\n",
       "       [0.57980843],\n",
       "       [0.57709955],\n",
       "       [0.57445983],\n",
       "       [0.57188754],\n",
       "       [0.56938099],\n",
       "       [0.56693852],\n",
       "       [0.56455848],\n",
       "       [0.56223926],\n",
       "       [0.55997926],\n",
       "       [0.55777694],\n",
       "       [0.55563077],\n",
       "       [0.55353924],\n",
       "       [0.5515009 ],\n",
       "       [0.54951431],\n",
       "       [0.54757807],\n",
       "       [0.54569081],\n",
       "       [0.5438512 ],\n",
       "       [0.54205794],\n",
       "       [0.54030976],\n",
       "       [0.53860542],\n",
       "       [0.53694372],\n",
       "       [0.53532349],\n",
       "       [0.53374359],\n",
       "       [0.53220291],\n",
       "       [0.53070037],\n",
       "       [0.52923492],\n",
       "       [0.52780555],\n",
       "       [0.52641127],\n",
       "       [0.52505112],\n",
       "       [0.52372416],\n",
       "       [0.52242948],\n",
       "       [0.5211662 ],\n",
       "       [0.51993348],\n",
       "       [0.51873047],\n",
       "       [0.51755636],\n",
       "       [0.51641039],\n",
       "       [0.51529177],\n",
       "       [0.51419977],\n",
       "       [0.51313368],\n",
       "       [0.51209279],\n",
       "       [0.51107643],\n",
       "       [0.51008393],\n",
       "       [0.50911465],\n",
       "       [0.50816798],\n",
       "       [0.5072433 ],\n",
       "       [0.50634003],\n",
       "       [0.50545759],\n",
       "       [0.50459543],\n",
       "       [0.50375301],\n",
       "       [0.50292981],\n",
       "       [0.5021253 ],\n",
       "       [0.50133901],\n",
       "       [0.50057044],\n",
       "       [0.49981912],\n",
       "       [0.4990846 ],\n",
       "       [0.49836644],\n",
       "       [0.4976642 ],\n",
       "       [0.49697746],\n",
       "       [0.49630582],\n",
       "       [0.49564888],\n",
       "       [0.49500625],\n",
       "       [0.49437757],\n",
       "       [0.49376246],\n",
       "       [0.49316056],\n",
       "       [0.49257155],\n",
       "       [0.49199508],\n",
       "       [0.49143082],\n",
       "       [0.49087846],\n",
       "       [0.49033769],\n",
       "       [0.48980821],\n",
       "       [0.48928973],\n",
       "       [0.48878197],\n",
       "       [0.48828465],\n",
       "       [0.48779751],\n",
       "       [0.48732028],\n",
       "       [0.48685271],\n",
       "       [0.48639455],\n",
       "       [0.48594558],\n",
       "       [0.48550554],\n",
       "       [0.48507423],\n",
       "       [0.48465142],\n",
       "       [0.48423688],\n",
       "       [0.48383043],\n",
       "       [0.48343186],\n",
       "       [0.48304096],\n",
       "       [0.48265755],\n",
       "       [0.48228145],\n",
       "       [0.48191246],\n",
       "       [0.48155043],\n",
       "       [0.48119517],\n",
       "       [0.48084653],\n",
       "       [0.48050433],\n",
       "       [0.48016843],\n",
       "       [0.47983867],\n",
       "       [0.47951491],\n",
       "       [0.47919699],\n",
       "       [0.47888479],\n",
       "       [0.47857815],\n",
       "       [0.47827696],\n",
       "       [0.47798108],\n",
       "       [0.47769038],\n",
       "       [0.47740475],\n",
       "       [0.47712406],\n",
       "       [0.47684821],\n",
       "       [0.47657707],\n",
       "       [0.47631054],\n",
       "       [0.47604852],\n",
       "       [0.47579089],\n",
       "       [0.47553757],\n",
       "       [0.47528844],\n",
       "       [0.47504342],\n",
       "       [0.47480242],\n",
       "       [0.47456533],\n",
       "       [0.47433209],\n",
       "       [0.47410259],\n",
       "       [0.47387676],\n",
       "       [0.47365451],\n",
       "       [0.47343577],\n",
       "       [0.47322046],\n",
       "       [0.47300851],\n",
       "       [0.47279984],\n",
       "       [0.47259438],\n",
       "       [0.47239207],\n",
       "       [0.47219283],\n",
       "       [0.4719966 ],\n",
       "       [0.47180331],\n",
       "       [0.47161291],\n",
       "       [0.47142534],\n",
       "       [0.47124052],\n",
       "       [0.47105842],\n",
       "       [0.47087897],\n",
       "       [0.47070211],\n",
       "       [0.4705278 ],\n",
       "       [0.47035598],\n",
       "       [0.47018659],\n",
       "       [0.4700196 ],\n",
       "       [0.46985496],\n",
       "       [0.46969261],\n",
       "       [0.46953251],\n",
       "       [0.46937462],\n",
       "       [0.46921889],\n",
       "       [0.46906528],\n",
       "       [0.46891375],\n",
       "       [0.46876426],\n",
       "       [0.46861676],\n",
       "       [0.46847123],\n",
       "       [0.46832762],\n",
       "       [0.4681859 ],\n",
       "       [0.46804603],\n",
       "       [0.46790797],\n",
       "       [0.4677717 ],\n",
       "       [0.46763718],\n",
       "       [0.46750437],\n",
       "       [0.46737325],\n",
       "       [0.46724378],\n",
       "       [0.46711593],\n",
       "       [0.46698968],\n",
       "       [0.46686499],\n",
       "       [0.46674184],\n",
       "       [0.4666202 ],\n",
       "       [0.46650004],\n",
       "       [0.46638134],\n",
       "       [0.46626407],\n",
       "       [0.46614821],\n",
       "       [0.46603372],\n",
       "       [0.4659206 ],\n",
       "       [0.4658088 ],\n",
       "       [0.46569832],\n",
       "       [0.46558913],\n",
       "       [0.4654812 ],\n",
       "       [0.46537451],\n",
       "       [0.46526906],\n",
       "       [0.4651648 ],\n",
       "       [0.46506173],\n",
       "       [0.46495982],\n",
       "       [0.46485906],\n",
       "       [0.46475942],\n",
       "       [0.4646609 ],\n",
       "       [0.46456346],\n",
       "       [0.46446709],\n",
       "       [0.46437178],\n",
       "       [0.46427751],\n",
       "       [0.46418425],\n",
       "       [0.46409201],\n",
       "       [0.46400075],\n",
       "       [0.46391047],\n",
       "       [0.46382115],\n",
       "       [0.46373277],\n",
       "       [0.46364532],\n",
       "       [0.46355879],\n",
       "       [0.46347316],\n",
       "       [0.46338842],\n",
       "       [0.46330455],\n",
       "       [0.46322154],\n",
       "       [0.46313939],\n",
       "       [0.46305806],\n",
       "       [0.46297757],\n",
       "       [0.46289788],\n",
       "       [0.462819  ],\n",
       "       [0.4627409 ],\n",
       "       [0.46266358],\n",
       "       [0.46258703],\n",
       "       [0.46251123],\n",
       "       [0.46243617],\n",
       "       [0.46236185],\n",
       "       [0.46228825],\n",
       "       [0.46221537],\n",
       "       [0.46214319],\n",
       "       [0.4620717 ],\n",
       "       [0.4620009 ],\n",
       "       [0.46193077],\n",
       "       [0.46186131],\n",
       "       [0.46179251],\n",
       "       [0.46172435],\n",
       "       [0.46165683],\n",
       "       [0.46158994],\n",
       "       [0.46152368],\n",
       "       [0.46145803],\n",
       "       [0.46139298],\n",
       "       [0.46132854],\n",
       "       [0.46126468],\n",
       "       [0.46120141],\n",
       "       [0.46113871],\n",
       "       [0.46107658],\n",
       "       [0.46101501],\n",
       "       [0.460954  ],\n",
       "       [0.46089353],\n",
       "       [0.4608336 ],\n",
       "       [0.4607742 ],\n",
       "       [0.46071534],\n",
       "       [0.46065699],\n",
       "       [0.46059915],\n",
       "       [0.46054183],\n",
       "       [0.460485  ],\n",
       "       [0.46042867],\n",
       "       [0.46037283],\n",
       "       [0.46031748]])"
      ]
     },
     "execution_count": 28,
     "metadata": {},
     "output_type": "execute_result"
    }
   ],
   "source": [
    "j_history"
   ]
  },
  {
   "cell_type": "code",
   "execution_count": 30,
   "id": "23368dcf",
   "metadata": {},
   "outputs": [
    {
     "data": {
      "text/plain": [
       "[<matplotlib.lines.Line2D at 0x7f72b83db640>]"
      ]
     },
     "execution_count": 30,
     "metadata": {},
     "output_type": "execute_result"
    },
    {
     "data": {
      "image/png": "[encoded data removed]",
      "text/plain": [
       "<Figure size 640x480 with 1 Axes>"
      ]
     },
     "metadata": {},
     "output_type": "display_data"
    }
   ],
   "source": [
    "plt.plot(list(range(1,301)),j_history,color = 'red')\n"
   ]
  },
  {
   "cell_type": "code",
   "execution_count": 38,
   "id": "70eb8f90",
   "metadata": {},
   "outputs": [
    {
     "data": {
      "text/plain": [
       "<AxesSubplot: >"
      ]
     },
     "execution_count": 38,
     "metadata": {},
     "output_type": "execute_result"
    },
    {
     "data": {
      "image/png": "[encoded data removed]",
      "text/plain": [
       "<Figure size 640x480 with 2 Axes>"
      ]
     },
     "metadata": {},
     "output_type": "display_data"
    }
   ],
   "source": [
    "conf_mat = pd.DataFrame(columns = ['Predicted 0','Predicted 1'],index = ['Actual 0','Actual 1'], data = [[0,0],[0,0]])\n",
    "predicted = result(x_train,f_theta)\n",
    "for i in range(len(y_train)):\n",
    "    if y_train[i][0] == 0:\n",
    "        if predicted[i] == 0:\n",
    "            conf_mat.iloc[0,0] += 1\n",
    "        else:\n",
    "            conf_mat.iloc[0,1] += 1\n",
    "    else:\n",
    "        if predicted[i] == 0:\n",
    "            conf_mat.iloc[1,0] += 1\n",
    "        else:\n",
    "            conf_mat.iloc[1,1] += 1\n",
    "sns.heatmap(conf_mat, annot=True, fmt='g', cmap='Blues')"
   ]
  },
  {
   "cell_type": "code",
   "execution_count": null,
   "id": "85382d6a",
   "metadata": {},
   "outputs": [],
   "source": []
  },
  {
   "cell_type": "code",
   "execution_count": null,
   "id": "64810d3d",
   "metadata": {},
   "outputs": [],
   "source": [
    "test_data = pd.read_csv('test.csv')"
   ]
  },
  {
   "cell_type": "code",
   "execution_count": null,
   "id": "b81768d1",
   "metadata": {},
   "outputs": [],
   "source": [
    "test_data['Sex'] = test_data['Sex'].apply(lambda x: 1 if x=='female' else 0)"
   ]
  },
  {
   "cell_type": "code",
   "execution_count": null,
   "id": "65e7d49f",
   "metadata": {},
   "outputs": [],
   "source": [
    "test_data['relatives'] = test_data['SibSp'] + test_data['Parch']"
   ]
  },
  {
   "cell_type": "code",
   "execution_count": null,
   "id": "175c9bb2",
   "metadata": {},
   "outputs": [],
   "source": [
    "test_data.drop(['SibSp','Parch'],axis = 1,inplace=True)"
   ]
  },
  {
   "cell_type": "code",
   "execution_count": null,
   "id": "95f4eb5f",
   "metadata": {},
   "outputs": [
    {
     "data": {
      "text/html": [
       "<div>\n",
       "<style scoped>\n",
       "    .dataframe tbody tr th:only-of-type {\n",
       "        vertical-align: middle;\n",
       "    }\n",
       "\n",
       "    .dataframe tbody tr th {\n",
       "        vertical-align: top;\n",
       "    }\n",
       "\n",
       "    .dataframe thead th {\n",
       "        text-align: right;\n",
       "    }\n",
       "</style>\n",
       "<table border=\"1\" class=\"dataframe\">\n",
       "  <thead>\n",
       "    <tr style=\"text-align: right;\">\n",
       "      <th></th>\n",
       "      <th>PassengerId</th>\n",
       "      <th>Pclass</th>\n",
       "      <th>Name</th>\n",
       "      <th>Sex</th>\n",
       "      <th>Age</th>\n",
       "      <th>Ticket</th>\n",
       "      <th>Fare</th>\n",
       "      <th>Cabin</th>\n",
       "      <th>Embarked</th>\n",
       "      <th>relatives</th>\n",
       "    </tr>\n",
       "  </thead>\n",
       "  <tbody>\n",
       "    <tr>\n",
       "      <th>0</th>\n",
       "      <td>892</td>\n",
       "      <td>3</td>\n",
       "      <td>Kelly, Mr. James</td>\n",
       "      <td>0</td>\n",
       "      <td>34.5</td>\n",
       "      <td>330911</td>\n",
       "      <td>7.8292</td>\n",
       "      <td>NaN</td>\n",
       "      <td>Q</td>\n",
       "      <td>0</td>\n",
       "    </tr>\n",
       "    <tr>\n",
       "      <th>1</th>\n",
       "      <td>893</td>\n",
       "      <td>3</td>\n",
       "      <td>Wilkes, Mrs. James (Ellen Needs)</td>\n",
       "      <td>1</td>\n",
       "      <td>47.0</td>\n",
       "      <td>363272</td>\n",
       "      <td>7.0000</td>\n",
       "      <td>NaN</td>\n",
       "      <td>S</td>\n",
       "      <td>1</td>\n",
       "    </tr>\n",
       "    <tr>\n",
       "      <th>2</th>\n",
       "      <td>894</td>\n",
       "      <td>2</td>\n",
       "      <td>Myles, Mr. Thomas Francis</td>\n",
       "      <td>0</td>\n",
       "      <td>62.0</td>\n",
       "      <td>240276</td>\n",
       "      <td>9.6875</td>\n",
       "      <td>NaN</td>\n",
       "      <td>Q</td>\n",
       "      <td>0</td>\n",
       "    </tr>\n",
       "    <tr>\n",
       "      <th>3</th>\n",
       "      <td>895</td>\n",
       "      <td>3</td>\n",
       "      <td>Wirz, Mr. Albert</td>\n",
       "      <td>0</td>\n",
       "      <td>27.0</td>\n",
       "      <td>315154</td>\n",
       "      <td>8.6625</td>\n",
       "      <td>NaN</td>\n",
       "      <td>S</td>\n",
       "      <td>0</td>\n",
       "    </tr>\n",
       "    <tr>\n",
       "      <th>4</th>\n",
       "      <td>896</td>\n",
       "      <td>3</td>\n",
       "      <td>Hirvonen, Mrs. Alexander (Helga E Lindqvist)</td>\n",
       "      <td>1</td>\n",
       "      <td>22.0</td>\n",
       "      <td>3101298</td>\n",
       "      <td>12.2875</td>\n",
       "      <td>NaN</td>\n",
       "      <td>S</td>\n",
       "      <td>2</td>\n",
       "    </tr>\n",
       "  </tbody>\n",
       "</table>\n",
       "</div>"
      ],
      "text/plain": [
       "   PassengerId  Pclass                                          Name  Sex  \\\n",
       "0          892       3                              Kelly, Mr. James    0   \n",
       "1          893       3              Wilkes, Mrs. James (Ellen Needs)    1   \n",
       "2          894       2                     Myles, Mr. Thomas Francis    0   \n",
       "3          895       3                              Wirz, Mr. Albert    0   \n",
       "4          896       3  Hirvonen, Mrs. Alexander (Helga E Lindqvist)    1   \n",
       "\n",
       "    Age   Ticket     Fare Cabin Embarked  relatives  \n",
       "0  34.5   330911   7.8292   NaN        Q          0  \n",
       "1  47.0   363272   7.0000   NaN        S          1  \n",
       "2  62.0   240276   9.6875   NaN        Q          0  \n",
       "3  27.0   315154   8.6625   NaN        S          0  \n",
       "4  22.0  3101298  12.2875   NaN        S          2  "
      ]
     },
     "execution_count": 45,
     "metadata": {},
     "output_type": "execute_result"
    }
   ],
   "source": [
    "test_data.head(5)"
   ]
  },
  {
   "cell_type": "code",
   "execution_count": null,
   "id": "ddf5c5a9",
   "metadata": {},
   "outputs": [],
   "source": [
    "test_data['Age'].fillna(0,inplace=True)"
   ]
  },
  {
   "cell_type": "code",
   "execution_count": null,
   "id": "0aad233f",
   "metadata": {},
   "outputs": [],
   "source": [
    "x_test = test_data[['Pclass','Sex','Age','Fare','relatives']]"
   ]
  },
  {
   "cell_type": "code",
   "execution_count": null,
   "id": "259cc310",
   "metadata": {},
   "outputs": [],
   "source": [
    "x_test = np.array(x_test).reshape(-1,5)"
   ]
  },
  {
   "cell_type": "code",
   "execution_count": null,
   "id": "ff4686d5",
   "metadata": {},
   "outputs": [
    {
     "data": {
      "text/plain": [
       "(418, 5)"
      ]
     },
     "execution_count": 49,
     "metadata": {},
     "output_type": "execute_result"
    }
   ],
   "source": [
    "x_test.shape"
   ]
  },
  {
   "cell_type": "code",
   "execution_count": null,
   "id": "92e06516",
   "metadata": {},
   "outputs": [],
   "source": [
    "x_test = scaler.fit_transform(x_test)"
   ]
  },
  {
   "cell_type": "code",
   "execution_count": null,
   "id": "593dc7a3",
   "metadata": {},
   "outputs": [],
   "source": [
    "x_test = np.concatenate((np.ones((418,1)),x_test),axis=1)"
   ]
  },
  {
   "cell_type": "code",
   "execution_count": null,
   "id": "933c1e2a",
   "metadata": {},
   "outputs": [
    {
     "data": {
      "text/plain": [
       "array([[ 1.        ,  0.87348191, -0.75592895,  0.59480137, -0.49781052,\n",
       "        -0.5534426 ],\n",
       "       [ 1.        ,  0.87348191,  1.32287566,  1.30589556, -0.51265996,\n",
       "         0.10564289],\n",
       "       [ 1.        , -0.31581919, -0.75592895,  2.15920859, -0.46453181,\n",
       "        -0.5534426 ],\n",
       "       ...,\n",
       "       [ 1.        ,  0.87348191, -0.75592895,  0.82235151, -0.50818292,\n",
       "        -0.5534426 ],\n",
       "       [ 1.        ,  0.87348191, -0.75592895, -1.3678186 , -0.4938564 ,\n",
       "        -0.5534426 ],\n",
       "       [ 1.        ,  0.87348191, -0.75592895, -1.3678186 , -0.23762123,\n",
       "         0.76472838]])"
      ]
     },
     "execution_count": 52,
     "metadata": {},
     "output_type": "execute_result"
    }
   ],
   "source": [
    "x_test"
   ]
  },
  {
   "cell_type": "code",
   "execution_count": null,
   "id": "10ba9ed2",
   "metadata": {},
   "outputs": [],
   "source": [
    "result_y = result(x_test,f_theta)"
   ]
  },
  {
   "cell_type": "code",
   "execution_count": null,
   "id": "06126e01",
   "metadata": {},
   "outputs": [],
   "source": [
    "result_y = result_y.reshape(-1,1)"
   ]
  },
  {
   "cell_type": "code",
   "execution_count": null,
   "id": "879e1679",
   "metadata": {},
   "outputs": [],
   "source": [
    "result_passengerid = np.array(test_data['PassengerId']).reshape(-1,1)"
   ]
  },
  {
   "cell_type": "code",
   "execution_count": null,
   "id": "ba93d3ff",
   "metadata": {},
   "outputs": [],
   "source": [
    "result_matrix = np.concatenate((result_passengerid,result_y),axis=1)"
   ]
  },
  {
   "cell_type": "code",
   "execution_count": null,
   "id": "a2257ccb",
   "metadata": {},
   "outputs": [],
   "source": [
    "result_df = pd.DataFrame(result_matrix,columns=['PassengerId','Survived'])"
   ]
  },
  {
   "cell_type": "code",
   "execution_count": null,
   "id": "c25b0395",
   "metadata": {},
   "outputs": [],
   "source": [
    "result_df.to_csv('send_result',index=False)"
   ]
  }
 ],
 "metadata": {
  "kernelspec": {
   "display_name": "Python 3",
   "language": "python",
   "name": "python3"
  },
  "language_info": {
   "codemirror_mode": {
    "name": "ipython",
    "version": 3
   },
   "file_extension": ".py",
   "mimetype": "text/x-python",
   "name": "python",
   "nbconvert_exporter": "python",
   "pygments_lexer": "ipython3",
   "version": "3.10.4"
  },
  "vscode": {
   "interpreter": {
    "hash": "3ad933181bd8a04b432d3370b9dc3b0662ad032c4dfaa4e4f1596c548f763858"
   }
  }
 },
 "nbformat": 4,
 "nbformat_minor": 5
}
