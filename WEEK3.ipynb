{
 "cells": [
  {
   "cell_type": "code",
   "execution_count": 1,
   "metadata": {},
   "outputs": [],
   "source": [
    "import pandas as pd\n",
    "import numpy as np\n",
    "import matplotlib.pyplot as plt\n",
    "import seaborn as sns\n",
    "%matplotlib inline"
   ]
  },
  {
   "cell_type": "code",
   "execution_count": 2,
   "metadata": {},
   "outputs": [],
   "source": [
    "###Create two matrices of 512,512 size with random values between 0 and 1\n",
    "A = np.random.rand(512,512)\n",
    "B = np.random.rand(512,512) \n"
   ]
  },
  {
   "cell_type": "code",
   "execution_count": 7,
   "metadata": {},
   "outputs": [
    {
     "data": {
      "text/plain": [
       "array([[125.41545168, 122.79081664, 131.46467117, ..., 128.35192521,\n",
       "        125.89920693, 127.82363634],\n",
       "       [124.53356198, 122.74445388, 130.2559892 , ..., 129.65579958,\n",
       "        127.8320126 , 128.50586661],\n",
       "       [127.97943416, 126.4387796 , 132.99297895, ..., 135.34435213,\n",
       "        130.9316517 , 129.91261002],\n",
       "       ...,\n",
       "       [130.47804385, 123.81168248, 132.58546797, ..., 129.66790171,\n",
       "        127.72526994, 134.59799621],\n",
       "       [123.69119868, 118.16148005, 123.0392518 , ..., 122.02353052,\n",
       "        123.07173506, 124.75447118],\n",
       "       [125.00239473, 125.16887622, 132.90414376, ..., 131.01504149,\n",
       "        130.68306067, 131.20313451]])"
      ]
     },
     "execution_count": 7,
     "metadata": {},
     "output_type": "execute_result"
    }
   ],
   "source": [
    "#Matrix multiplication\n",
    "A.dot(B) "
   ]
  },
  {
   "cell_type": "code",
   "execution_count": 8,
   "metadata": {},
   "outputs": [
    {
     "data": {
      "text/plain": [
       "array([[0.43119907, 0.05498074, 0.02079397, ..., 0.42857294, 0.49354219,\n",
       "        0.24200535],\n",
       "       [0.44331335, 0.02407967, 0.62375032, ..., 0.48621261, 0.17148868,\n",
       "        0.07154394],\n",
       "       [0.72933819, 0.51812923, 0.92864832, ..., 0.4627331 , 0.68490088,\n",
       "        0.1709774 ],\n",
       "       ...,\n",
       "       [0.49018503, 0.11398863, 0.93481833, ..., 0.11427102, 0.79236174,\n",
       "        0.91243368],\n",
       "       [0.19932124, 0.94587884, 0.11039129, ..., 0.65594759, 0.07361826,\n",
       "        0.20437254],\n",
       "       [0.56396165, 0.44670033, 0.87099515, ..., 0.88547802, 0.05249539,\n",
       "        0.01444346]])"
      ]
     },
     "execution_count": 8,
     "metadata": {},
     "output_type": "execute_result"
    }
   ],
   "source": [
    "##Transpose of matrix A\n",
    "A.T"
   ]
  },
  {
   "cell_type": "code",
   "execution_count": 9,
   "metadata": {},
   "outputs": [
    {
     "data": {
      "text/plain": [
       "array([[-0.06548271,  0.16060886,  0.01949596, ...,  0.08070369,\n",
       "        -0.12767307,  0.06963621],\n",
       "       [ 1.44928498,  0.28865837, -1.88254815, ...,  0.78178325,\n",
       "         0.63561005, -0.23428793],\n",
       "       [-0.04282392, -0.21611634,  0.12562577, ...,  0.08049493,\n",
       "         0.17841155, -0.0181947 ],\n",
       "       ...,\n",
       "       [-0.94386573, -0.26583576,  1.22760067, ..., -0.1756753 ,\n",
       "        -0.1135994 ,  0.22737809],\n",
       "       [ 0.91879373,  0.10823583, -1.04398685, ...,  0.540431  ,\n",
       "         0.40871268, -0.3402777 ],\n",
       "       [-0.62096307, -0.52493525,  1.57107699, ..., -0.26502589,\n",
       "        -0.61328038, -0.06755592]])"
      ]
     },
     "execution_count": 9,
     "metadata": {},
     "output_type": "execute_result"
    }
   ],
   "source": [
    "##Inverse of matrix A \n",
    "np.linalg.inv(A)"
   ]
  },
  {
   "cell_type": "code",
   "execution_count": null,
   "metadata": {},
   "outputs": [],
   "source": []
  }
 ],
 "metadata": {
  "kernelspec": {
   "display_name": "Python 3",
   "language": "python",
   "name": "python3"
  },
  "language_info": {
   "codemirror_mode": {
    "name": "ipython",
    "version": 3
   },
   "file_extension": ".py",
   "mimetype": "text/x-python",
   "name": "python",
   "nbconvert_exporter": "python",
   "pygments_lexer": "ipython3",
   "version": "3.10.4"
  },
  "orig_nbformat": 4,
  "vscode": {
   "interpreter": {
    "hash": "3ad933181bd8a04b432d3370b9dc3b0662ad032c4dfaa4e4f1596c548f763858"
   }
  }
 },
 "nbformat": 4,
 "nbformat_minor": 2
}
